{
  "nbformat": 4,
  "nbformat_minor": 0,
  "metadata": {
    "colab": {
      "provenance": []
    },
    "kernelspec": {
      "name": "python3",
      "display_name": "Python 3"
    },
    "language_info": {
      "name": "python"
    }
  },
  "cells": [
    {
      "cell_type": "code",
      "execution_count": 1,
      "metadata": {
        "id": "dckL2QWNCM2i"
      },
      "outputs": [],
      "source": [
        "# Import necessary libraries\n",
        "\n",
        "import sqlite3\n",
        "from sqlite3 import Error"
      ]
    },
    {
      "cell_type": "code",
      "source": [
        "# Function to create the database connection\n",
        "\n",
        "def create_connection(db_file):\n",
        "    conn = None\n",
        "    try:\n",
        "        conn = sqlite3.connect(db_file)\n",
        "        print(f\"Connection to {db_file} is established.\")\n",
        "    except Error as e:\n",
        "        print(e)\n",
        "    return conn"
      ],
      "metadata": {
        "id": "UY-GNk6BCktg"
      },
      "execution_count": 2,
      "outputs": []
    },
    {
      "cell_type": "code",
      "source": [
        "# Function to create the books table\n",
        "\n",
        "def create_table(conn):\n",
        "    try:\n",
        "        sql_create_books_table = \"\"\" CREATE TABLE IF NOT EXISTS books (\n",
        "                                        id integer PRIMARY KEY,\n",
        "                                        title text NOT NULL,\n",
        "                                        author text NOT NULL,\n",
        "                                        year integer\n",
        "                                    ); \"\"\"\n",
        "        cursor = conn.cursor()\n",
        "        cursor.execute(sql_create_books_table)\n",
        "        print(\"Table 'books' created successfully.\")\n",
        "    except Error as e:\n",
        "        print(e)"
      ],
      "metadata": {
        "id": "Q9L2gIs2CkwV"
      },
      "execution_count": 3,
      "outputs": []
    },
    {
      "cell_type": "code",
      "source": [
        "# Create database connection\n",
        "\n",
        "database = \"test.db\"\n",
        "conn = create_connection(database)"
      ],
      "metadata": {
        "colab": {
          "base_uri": "https://localhost:8080/"
        },
        "id": "pk0Bk914Cky8",
        "outputId": "bb8d7d30-249a-4839-e0ae-3f92ca93a04c"
      },
      "execution_count": 4,
      "outputs": [
        {
          "output_type": "stream",
          "name": "stdout",
          "text": [
            "Connection to test.db is established.\n"
          ]
        }
      ]
    },
    {
      "cell_type": "code",
      "source": [
        "# Cursor object creation\n",
        "\n",
        "cursor = conn.cursor()"
      ],
      "metadata": {
        "id": "-HRdNGPWCk1O"
      },
      "execution_count": 5,
      "outputs": []
    },
    {
      "cell_type": "code",
      "source": [
        "# Function to insert a new book\n",
        "\n",
        "def insert_book(conn, book):\n",
        "    sql = ''' INSERT INTO books(title, author, year)\n",
        "              VALUES(?,?,?) '''\n",
        "    cursor.execute(sql, book)\n",
        "    conn.commit()\n",
        "    print(f\"Book '{book[0]}' added successfully.\")\n",
        "    return cursor.lastrowid"
      ],
      "metadata": {
        "id": "MuPZdeAuCk3s"
      },
      "execution_count": 6,
      "outputs": []
    },
    {
      "cell_type": "code",
      "source": [
        " # Function to query all rows in the books table\n",
        "\n",
        " def read_books(conn):\n",
        "    cursor.execute(\"SELECT * FROM books\")\n",
        "\n",
        "    rows = cursor.fetchall()\n",
        "    print(\"Books in the database:\")\n",
        "    for row in rows:\n",
        "        print(row)"
      ],
      "metadata": {
        "id": "eqWysDLTCk6e"
      },
      "execution_count": 7,
      "outputs": []
    },
    {
      "cell_type": "code",
      "source": [
        "# Function to update the title, author, and year of a book\n",
        "\n",
        "def update_book(conn, book):\n",
        "    sql = ''' UPDATE books\n",
        "              SET title = ?,\n",
        "                  author = ?,\n",
        "                  year = ?\n",
        "              WHERE id = ?'''\n",
        "    cursor.execute(sql, book)\n",
        "    conn.commit()\n",
        "    print(f\"Book with ID {book[3]} updated successfully.\")"
      ],
      "metadata": {
        "id": "bvQz3mqXCk9M"
      },
      "execution_count": 8,
      "outputs": []
    },
    {
      "cell_type": "code",
      "source": [
        "# Function to delete a book by book id\n",
        "\n",
        "def delete_book(conn, id):\n",
        "    sql = 'DELETE FROM books WHERE id=?'\n",
        "\n",
        "    cursor.execute(sql, (id,))\n",
        "    conn.commit()\n",
        "    print(f\"Book with ID {id} deleted successfully.\")"
      ],
      "metadata": {
        "id": "IIPJQPLvClAV"
      },
      "execution_count": 9,
      "outputs": []
    },
    {
      "cell_type": "code",
      "source": [
        "# Creating table\n",
        "\n",
        "if conn is not None:\n",
        "    create_table(conn)\n",
        "else:\n",
        "    print(\"Error! Cannot create the database connection.\")"
      ],
      "metadata": {
        "colab": {
          "base_uri": "https://localhost:8080/"
        },
        "id": "eO7PUKIjClC0",
        "outputId": "495192d5-43c7-4e82-fb76-c14156dc17c1"
      },
      "execution_count": 10,
      "outputs": [
        {
          "output_type": "stream",
          "name": "stdout",
          "text": [
            "Table 'books' created successfully.\n"
          ]
        }
      ]
    },
    {
      "cell_type": "code",
      "source": [
        "# Insert a book\n",
        "\n",
        "books = [\n",
        "        ('The Great Gatsby', 'F. Scott Fitzgerald', 1925),\n",
        "        ('To Kill a Mockingbird', 'Harper Lee', 1960),\n",
        "        ('1984', 'George Orwell', 1949),\n",
        "        ('Pride and Prejudice', 'Jane Austen', 1813),\n",
        "        ('Moby-Dik', 'Herman Melville', 1851)\n",
        "    ]\n",
        "\n",
        "for book in books:\n",
        "        insert_book(conn, book)"
      ],
      "metadata": {
        "colab": {
          "base_uri": "https://localhost:8080/"
        },
        "id": "2RTzBTm9ClFV",
        "outputId": "b8edaf40-6bb0-4b7d-9558-63f60f513dff"
      },
      "execution_count": 11,
      "outputs": [
        {
          "output_type": "stream",
          "name": "stdout",
          "text": [
            "Book 'The Great Gatsby' added successfully.\n",
            "Book 'To Kill a Mockingbird' added successfully.\n",
            "Book '1984' added successfully.\n",
            "Book 'Pride and Prejudice' added successfully.\n",
            "Book 'Moby-Dik' added successfully.\n"
          ]
        }
      ]
    },
    {
      "cell_type": "code",
      "source": [
        " # Read books\n",
        "\n",
        " read_books(conn)"
      ],
      "metadata": {
        "colab": {
          "base_uri": "https://localhost:8080/"
        },
        "id": "xUI_Z49gClH8",
        "outputId": "52de58d9-cf43-40f9-98cc-f24199e460a4"
      },
      "execution_count": 12,
      "outputs": [
        {
          "output_type": "stream",
          "name": "stdout",
          "text": [
            "Books in the database:\n",
            "(1, 'The Great Gatsby', 'F. Scott Fitzgerald', 1925)\n",
            "(2, 'To Kill a Mockingbird', 'Harper Lee', 1960)\n",
            "(3, '1984', 'George Orwell', 1949)\n",
            "(4, 'Pride and Prejudice', 'Jane Austen', 1813)\n",
            "(5, 'Moby-Dik', 'Herman Melville', 1851)\n"
          ]
        }
      ]
    },
    {
      "cell_type": "code",
      "source": [
        "# Update a book\n",
        "\n",
        "updated_book = ('Nineteen Eighty-Four', 'George Orwell', 1949, 3)\n",
        "update_book(conn, updated_book)"
      ],
      "metadata": {
        "colab": {
          "base_uri": "https://localhost:8080/"
        },
        "id": "IOnB0h4gClKv",
        "outputId": "9787ebd4-2c55-4e9a-a136-551263b8ddc9"
      },
      "execution_count": 13,
      "outputs": [
        {
          "output_type": "stream",
          "name": "stdout",
          "text": [
            "Book with ID 3 updated successfully.\n"
          ]
        }
      ]
    },
    {
      "cell_type": "code",
      "source": [
        "# Read books after update\n",
        "\n",
        "read_books(conn)"
      ],
      "metadata": {
        "colab": {
          "base_uri": "https://localhost:8080/"
        },
        "id": "t8HGU5R8ClNO",
        "outputId": "cb3432cf-863c-42aa-a91a-259ca2ba296d"
      },
      "execution_count": 14,
      "outputs": [
        {
          "output_type": "stream",
          "name": "stdout",
          "text": [
            "Books in the database:\n",
            "(1, 'The Great Gatsby', 'F. Scott Fitzgerald', 1925)\n",
            "(2, 'To Kill a Mockingbird', 'Harper Lee', 1960)\n",
            "(3, 'Nineteen Eighty-Four', 'George Orwell', 1949)\n",
            "(4, 'Pride and Prejudice', 'Jane Austen', 1813)\n",
            "(5, 'Moby-Dik', 'Herman Melville', 1851)\n"
          ]
        }
      ]
    },
    {
      "cell_type": "code",
      "source": [
        "# Delete a book\n",
        "\n",
        "delete_book(conn, 5)"
      ],
      "metadata": {
        "colab": {
          "base_uri": "https://localhost:8080/"
        },
        "id": "bF2jVMJVDGys",
        "outputId": "10a1904e-33a2-40ab-973c-4688c1662042"
      },
      "execution_count": 15,
      "outputs": [
        {
          "output_type": "stream",
          "name": "stdout",
          "text": [
            "Book with ID 5 deleted successfully.\n"
          ]
        }
      ]
    },
    {
      "cell_type": "code",
      "source": [
        " # Read books after deletion\n",
        "\n",
        " read_books(conn)"
      ],
      "metadata": {
        "colab": {
          "base_uri": "https://localhost:8080/"
        },
        "id": "vxTuSaDsDGwM",
        "outputId": "a0ac30fd-2ea8-45d1-f20a-d7c8351c8bac"
      },
      "execution_count": 16,
      "outputs": [
        {
          "output_type": "stream",
          "name": "stdout",
          "text": [
            "Books in the database:\n",
            "(1, 'The Great Gatsby', 'F. Scott Fitzgerald', 1925)\n",
            "(2, 'To Kill a Mockingbird', 'Harper Lee', 1960)\n",
            "(3, 'Nineteen Eighty-Four', 'George Orwell', 1949)\n",
            "(4, 'Pride and Prejudice', 'Jane Austen', 1813)\n"
          ]
        }
      ]
    },
    {
      "cell_type": "code",
      "source": [],
      "metadata": {
        "id": "iWMs4NCsDGtT"
      },
      "execution_count": null,
      "outputs": []
    },
    {
      "cell_type": "code",
      "source": [],
      "metadata": {
        "id": "JLfvgBiFDGob"
      },
      "execution_count": null,
      "outputs": []
    },
    {
      "cell_type": "code",
      "source": [],
      "metadata": {
        "id": "xhrIXpdkDGld"
      },
      "execution_count": null,
      "outputs": []
    }
  ]
}